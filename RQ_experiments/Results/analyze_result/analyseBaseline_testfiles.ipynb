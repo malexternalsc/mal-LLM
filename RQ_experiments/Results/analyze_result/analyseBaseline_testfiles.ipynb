{
 "cells": [
  {
   "cell_type": "code",
   "execution_count": 2,
   "metadata": {},
   "outputs": [],
   "source": [
    "import pandas as pd\n",
    "import csv\n",
    "import re\n",
    "import matplotlib.pyplot as plt\n",
    "import seaborn as sns\n",
    "from sklearn.metrics import accuracy_score, precision_score, recall_score, f1_score, confusion_matrix,classification_report\n"
   ]
  },
  {
   "cell_type": "code",
   "execution_count": 11,
   "metadata": {},
   "outputs": [],
   "source": [
    "def extract_package_name(row):\n",
    "    package_names = row['textual_description'].split(',')[0].replace('start entry ', '')\n",
    "    package_names = package_names.split('/')\n",
    "    package_name = package_names[0]\n",
    "\n",
    "    \n",
    "    version_match = re.search(r'-(\\d+(\\.\\d+){0,2})$', package_name)\n",
    "    version = version_match.group(1) if version_match else \"Unknown\"\n",
    "    package_name = re.sub(r'-\\d+(\\.\\d+){0,5}$', '', package_name)\n",
    "    return package_name"
   ]
  },
  {
   "cell_type": "code",
   "execution_count": 12,
   "metadata": {},
   "outputs": [],
   "source": [
    "new_test_data = pd.read_csv('..\\..\\data\\\\test_reduced.csv')"
   ]
  },
  {
   "cell_type": "code",
   "execution_count": 13,
   "metadata": {},
   "outputs": [],
   "source": [
    "new_test_data['package_name'] =  new_test_data.apply(lambda row: pd.Series(extract_package_name(row)),  axis=1)"
   ]
  },
  {
   "cell_type": "code",
   "execution_count": 14,
   "metadata": {},
   "outputs": [
    {
     "data": {
      "text/html": [
       "<div>\n",
       "<style scoped>\n",
       "    .dataframe tbody tr th:only-of-type {\n",
       "        vertical-align: middle;\n",
       "    }\n",
       "\n",
       "    .dataframe tbody tr th {\n",
       "        vertical-align: top;\n",
       "    }\n",
       "\n",
       "    .dataframe thead th {\n",
       "        text-align: right;\n",
       "    }\n",
       "</style>\n",
       "<table border=\"1\" class=\"dataframe\">\n",
       "  <thead>\n",
       "    <tr style=\"text-align: right;\">\n",
       "      <th></th>\n",
       "      <th>textual_description</th>\n",
       "      <th>label</th>\n",
       "      <th>package_name</th>\n",
       "    </tr>\n",
       "  </thead>\n",
       "  <tbody>\n",
       "    <tr>\n",
       "      <th>0</th>\n",
       "      <td>start entry linkify-it-py-2.0.0/setup.py, use ...</td>\n",
       "      <td>0</td>\n",
       "      <td>linkify-it-py</td>\n",
       "    </tr>\n",
       "    <tr>\n",
       "      <th>1</th>\n",
       "      <td>start entry dill-0.3.5.1/setup.py, import oper...</td>\n",
       "      <td>0</td>\n",
       "      <td>dill</td>\n",
       "    </tr>\n",
       "    <tr>\n",
       "      <th>2</th>\n",
       "      <td>start entry requirements-parser-0.5.0/setup.py...</td>\n",
       "      <td>0</td>\n",
       "      <td>requirements-parser</td>\n",
       "    </tr>\n",
       "    <tr>\n",
       "      <th>3</th>\n",
       "      <td>start entry django-modelcluster-6.0/setup.py, ...</td>\n",
       "      <td>0</td>\n",
       "      <td>django-modelcluster</td>\n",
       "    </tr>\n",
       "    <tr>\n",
       "      <th>4</th>\n",
       "      <td>start entry tpcvverencode-4.45/setup.py, impor...</td>\n",
       "      <td>1</td>\n",
       "      <td>tpcvverencode</td>\n",
       "    </tr>\n",
       "  </tbody>\n",
       "</table>\n",
       "</div>"
      ],
      "text/plain": [
       "                                 textual_description  label  \\\n",
       "0  start entry linkify-it-py-2.0.0/setup.py, use ...      0   \n",
       "1  start entry dill-0.3.5.1/setup.py, import oper...      0   \n",
       "2  start entry requirements-parser-0.5.0/setup.py...      0   \n",
       "3  start entry django-modelcluster-6.0/setup.py, ...      0   \n",
       "4  start entry tpcvverencode-4.45/setup.py, impor...      1   \n",
       "\n",
       "          package_name  \n",
       "0        linkify-it-py  \n",
       "1                 dill  \n",
       "2  requirements-parser  \n",
       "3  django-modelcluster  \n",
       "4        tpcvverencode  "
      ]
     },
     "execution_count": 14,
     "metadata": {},
     "output_type": "execute_result"
    }
   ],
   "source": [
    "new_test_data.head()"
   ]
  },
  {
   "cell_type": "code",
   "execution_count": 22,
   "metadata": {},
   "outputs": [],
   "source": [
    "new_test_data.to_csv('..\\..\\data\\\\test_reduced_p.csv', index=False)"
   ]
  },
  {
   "cell_type": "code",
   "execution_count": 6,
   "metadata": {},
   "outputs": [],
   "source": [
    "test_package_names = new_test_data['package_name'].to_list()"
   ]
  },
  {
   "cell_type": "code",
   "execution_count": 7,
   "metadata": {},
   "outputs": [
    {
     "data": {
      "text/plain": [
       "509"
      ]
     },
     "execution_count": 7,
     "metadata": {},
     "output_type": "execute_result"
    }
   ],
   "source": [
    "len(test_package_names)"
   ]
  },
  {
   "cell_type": "code",
   "execution_count": null,
   "metadata": {},
   "outputs": [],
   "source": []
  },
  {
   "cell_type": "markdown",
   "metadata": {},
   "source": [
    "# GPT"
   ]
  },
  {
   "cell_type": "code",
   "execution_count": null,
   "metadata": {},
   "outputs": [
    {
     "name": "stdout",
     "output_type": "stream",
     "text": [
      "Processed file saved to: ../ZSP_test_baseline/gpt_test_results_new.csv\n"
     ]
    }
   ],
   "source": [
    "\n",
    "# input_file = \"../ZSP_test_baseline/gpt_test_results.csv\"\n",
    "# output_file = \"../ZSP_test_baseline/gpt_test_results_new.csv\"\n",
    "\n",
    "# processed_rows = []\n",
    "\n",
    "# # Open the CSV and read line by line\n",
    "# with open(input_file, \"r\", encoding=\"utf-8\") as file:\n",
    "#     reader = csv.reader(file)  # Automatically handles commas\n",
    "#     for row in reader:\n",
    "#         # Ensure row has at least 4 columns\n",
    "#         if len(row) >= 4:\n",
    "#             package_name = row[0]\n",
    "#             label = row[1]\n",
    "#             llm_prediction = row[2]\n",
    "#             explanation = \",\".join(row[3:])  # Merge everything from 4th column onward\n",
    "#             processed_rows.append([package_name, label, llm_prediction, explanation])\n",
    "\n",
    "# # Convert processed data to a DataFrame\n",
    "# df = pd.DataFrame(processed_rows, columns=[\"package_name\", \"label\", \"llm_prediction\", \"explanation\"])\n",
    "\n",
    "# # Save to CSV with quoted 4th column\n",
    "# df.to_csv(output_file, index=False, quoting=csv.QUOTE_NONNUMERIC)  # Quote only the text column\n",
    "\n",
    "# print(f\"Processed file saved to: {output_file}\")\n"
   ]
  },
  {
   "cell_type": "code",
   "execution_count": 23,
   "metadata": {},
   "outputs": [],
   "source": [
    "full_gpt_results = pd.read_csv('../ZSP_test_baseline/gpt_test_results_new.csv')"
   ]
  },
  {
   "cell_type": "code",
   "execution_count": 24,
   "metadata": {},
   "outputs": [],
   "source": [
    "gpt_results = full_gpt_results[full_gpt_results['package_name'].str.contains('|'.join(test_package_names),case=False, na=False)]    "
   ]
  },
  {
   "cell_type": "code",
   "execution_count": null,
   "metadata": {},
   "outputs": [],
   "source": [
    "# gpt_results = full_gpt_results[full_gpt_results['package_name'].isin(test_package_names)]"
   ]
  },
  {
   "cell_type": "code",
   "execution_count": 25,
   "metadata": {},
   "outputs": [
    {
     "data": {
      "text/plain": [
       "(180, 4)"
      ]
     },
     "execution_count": 25,
     "metadata": {},
     "output_type": "execute_result"
    }
   ],
   "source": [
    "gpt_results.shape"
   ]
  },
  {
   "cell_type": "code",
   "execution_count": 26,
   "metadata": {},
   "outputs": [
    {
     "data": {
      "text/html": [
       "<div>\n",
       "<style scoped>\n",
       "    .dataframe tbody tr th:only-of-type {\n",
       "        vertical-align: middle;\n",
       "    }\n",
       "\n",
       "    .dataframe tbody tr th {\n",
       "        vertical-align: top;\n",
       "    }\n",
       "\n",
       "    .dataframe thead th {\n",
       "        text-align: right;\n",
       "    }\n",
       "</style>\n",
       "<table border=\"1\" class=\"dataframe\">\n",
       "  <thead>\n",
       "    <tr style=\"text-align: right;\">\n",
       "      <th></th>\n",
       "      <th>package_name</th>\n",
       "      <th>label</th>\n",
       "      <th>llm_prediction</th>\n",
       "      <th>explanation</th>\n",
       "    </tr>\n",
       "  </thead>\n",
       "  <tbody>\n",
       "    <tr>\n",
       "      <th>8</th>\n",
       "      <td>py-candynvidiakill-v8.30</td>\n",
       "      <td>1</td>\n",
       "      <td>1</td>\n",
       "      <td>The presence of a subprocess invocation that e...</td>\n",
       "    </tr>\n",
       "    <tr>\n",
       "      <th>22</th>\n",
       "      <td>flake8-literal-1.2.6</td>\n",
       "      <td>0</td>\n",
       "      <td>0</td>\n",
       "      <td>The setup.py file includes standard package se...</td>\n",
       "    </tr>\n",
       "    <tr>\n",
       "      <th>24</th>\n",
       "      <td>aiosqlite-0.17.0</td>\n",
       "      <td>0</td>\n",
       "      <td>0</td>\n",
       "      <td>The setup.py file indicates that the package i...</td>\n",
       "    </tr>\n",
       "    <tr>\n",
       "      <th>31</th>\n",
       "      <td>scikit-image-0.19.3</td>\n",
       "      <td>0</td>\n",
       "      <td>0</td>\n",
       "      <td>The package contains a significant number of s...</td>\n",
       "    </tr>\n",
       "    <tr>\n",
       "      <th>42</th>\n",
       "      <td>selfcandystudystudy-v9.14</td>\n",
       "      <td>1</td>\n",
       "      <td>1</td>\n",
       "      <td>The presence of code that attempts to execute ...</td>\n",
       "    </tr>\n",
       "  </tbody>\n",
       "</table>\n",
       "</div>"
      ],
      "text/plain": [
       "                 package_name  label  llm_prediction  \\\n",
       "8    py-candynvidiakill-v8.30      1               1   \n",
       "22       flake8-literal-1.2.6      0               0   \n",
       "24           aiosqlite-0.17.0      0               0   \n",
       "31        scikit-image-0.19.3      0               0   \n",
       "42  selfcandystudystudy-v9.14      1               1   \n",
       "\n",
       "                                          explanation  \n",
       "8   The presence of a subprocess invocation that e...  \n",
       "22  The setup.py file includes standard package se...  \n",
       "24  The setup.py file indicates that the package i...  \n",
       "31  The package contains a significant number of s...  \n",
       "42  The presence of code that attempts to execute ...  "
      ]
     },
     "execution_count": 26,
     "metadata": {},
     "output_type": "execute_result"
    }
   ],
   "source": [
    "gpt_results.head()"
   ]
  },
  {
   "cell_type": "code",
   "execution_count": 4,
   "metadata": {},
   "outputs": [
    {
     "data": {
      "text/plain": [
       "overall_classification\n",
       " 1    1503\n",
       " 0     408\n",
       "-1       2\n",
       "Name: count, dtype: int64"
      ]
     },
     "execution_count": 4,
     "metadata": {},
     "output_type": "execute_result"
    }
   ],
   "source": [
    "gpt_result['overall_classification'].value_counts()"
   ]
  },
  {
   "cell_type": "markdown",
   "metadata": {},
   "source": [
    "# LLAMA"
   ]
  },
  {
   "cell_type": "code",
   "execution_count": null,
   "metadata": {},
   "outputs": [
    {
     "name": "stdout",
     "output_type": "stream",
     "text": [
      "Processed file saved to: ../ZSP_test_baseline/llama_test_results_new.csv\n"
     ]
    }
   ],
   "source": [
    "\n",
    "# input_file = \"../ZSP_test_baseline/llama_test_results.csv\"\n",
    "# output_file = \"../ZSP_test_baseline/llama_test_results_new.csv\"\n",
    "\n",
    "# processed_rows = []\n",
    "\n",
    "# # Open the CSV and read line by line\n",
    "# with open(input_file, \"r\", encoding=\"utf-8\") as file:\n",
    "#     reader = csv.reader(file)  # Automatically handles commas\n",
    "#     for row in reader:\n",
    "#         # Ensure row has at least 4 columns\n",
    "#         if len(row) >= 4:\n",
    "#             package_name = row[0]\n",
    "#             label = row[1]\n",
    "#             llm_prediction = row[2]\n",
    "#             explanation = \",\".join(row[3:])  # Merge everything from 4th column onward\n",
    "#             processed_rows.append([package_name, label, llm_prediction, explanation])\n",
    "\n",
    "# # Convert processed data to a DataFrame\n",
    "# df = pd.DataFrame(processed_rows, columns=[\"package_name\", \"label\", \"llm_prediction\", \"explanation\"])\n",
    "\n",
    "# # Save to CSV with quoted 4th column\n",
    "# df.to_csv(output_file, index=False, quoting=csv.QUOTE_NONNUMERIC)  # Quote only the text column\n",
    "\n",
    "# print(f\"Processed file saved to: {output_file}\")\n"
   ]
  },
  {
   "cell_type": "code",
   "execution_count": null,
   "metadata": {},
   "outputs": [],
   "source": []
  },
  {
   "cell_type": "code",
   "execution_count": 3,
   "metadata": {},
   "outputs": [],
   "source": [
    "llama_results = pd.read_csv(\"../ZSP_test_baseline/llama_test_results_new.csv\")"
   ]
  },
  {
   "cell_type": "code",
   "execution_count": 12,
   "metadata": {},
   "outputs": [
    {
     "data": {
      "text/html": [
       "<div>\n",
       "<style scoped>\n",
       "    .dataframe tbody tr th:only-of-type {\n",
       "        vertical-align: middle;\n",
       "    }\n",
       "\n",
       "    .dataframe tbody tr th {\n",
       "        vertical-align: top;\n",
       "    }\n",
       "\n",
       "    .dataframe thead th {\n",
       "        text-align: right;\n",
       "    }\n",
       "</style>\n",
       "<table border=\"1\" class=\"dataframe\">\n",
       "  <thead>\n",
       "    <tr style=\"text-align: right;\">\n",
       "      <th></th>\n",
       "      <th>package_name</th>\n",
       "      <th>label</th>\n",
       "      <th>llm_prediction</th>\n",
       "      <th>explanation</th>\n",
       "    </tr>\n",
       "  </thead>\n",
       "  <tbody>\n",
       "    <tr>\n",
       "      <th>0</th>\n",
       "      <td>filename</td>\n",
       "      <td>label</td>\n",
       "      <td>llm_prediction</td>\n",
       "      <td>explanation</td>\n",
       "    </tr>\n",
       "    <tr>\n",
       "      <th>1</th>\n",
       "      <td>libcontrolultravm-v2.33</td>\n",
       "      <td>1</td>\n",
       "      <td>True</td>\n",
       "      <td>This package is predicted as Malicious because...</td>\n",
       "    </tr>\n",
       "    <tr>\n",
       "      <th>2</th>\n",
       "      <td>DendroPy-4.5.2</td>\n",
       "      <td>0</td>\n",
       "      <td>False</td>\n",
       "      <td>This package appears to be a legitimate open-s...</td>\n",
       "    </tr>\n",
       "    <tr>\n",
       "      <th>3</th>\n",
       "      <td>df2gspread-1.0.4</td>\n",
       "      <td>0</td>\n",
       "      <td>True</td>\n",
       "      <td>This package downloads a spreadsheet from Goog...</td>\n",
       "    </tr>\n",
       "    <tr>\n",
       "      <th>4</th>\n",
       "      <td>aryi-0.1</td>\n",
       "      <td>1</td>\n",
       "      <td>False</td>\n",
       "      <td>This package appears to be benign as it uses v...</td>\n",
       "    </tr>\n",
       "  </tbody>\n",
       "</table>\n",
       "</div>"
      ],
      "text/plain": [
       "              package_name  label  llm_prediction  \\\n",
       "0                 filename  label  llm_prediction   \n",
       "1  libcontrolultravm-v2.33      1            True   \n",
       "2           DendroPy-4.5.2      0           False   \n",
       "3         df2gspread-1.0.4      0            True   \n",
       "4                 aryi-0.1      1           False   \n",
       "\n",
       "                                         explanation  \n",
       "0                                        explanation  \n",
       "1  This package is predicted as Malicious because...  \n",
       "2  This package appears to be a legitimate open-s...  \n",
       "3  This package downloads a spreadsheet from Goog...  \n",
       "4  This package appears to be benign as it uses v...  "
      ]
     },
     "execution_count": 12,
     "metadata": {},
     "output_type": "execute_result"
    }
   ],
   "source": [
    "llama_result.head()"
   ]
  },
  {
   "cell_type": "code",
   "execution_count": 6,
   "metadata": {},
   "outputs": [
    {
     "data": {
      "text/plain": [
       "overall_classification\n",
       " 1    1577\n",
       "-1     180\n",
       " 0     149\n",
       "Name: count, dtype: int64"
      ]
     },
     "execution_count": 6,
     "metadata": {},
     "output_type": "execute_result"
    }
   ],
   "source": [
    "llama_result['overall_classification'].value_counts()"
   ]
  },
  {
   "cell_type": "markdown",
   "metadata": {},
   "source": [
    "#Analysis"
   ]
  },
  {
   "cell_type": "code",
   "execution_count": 4,
   "metadata": {},
   "outputs": [],
   "source": [
    "# Ensure labels and predictions are properly formatted as integers\n",
    "gpt_results = gpt_results[gpt_results['label'].isin([0, 1])].copy()\n",
    "llama_results = llama_results[llama_results['label'].isin([0, 1, -1])].copy()\n",
    "\n",
    "# Convert label and prediction columns to integers\n",
    "gpt_results['label'] = gpt_results['label'].astype(int)\n",
    "gpt_results['llm_prediction'] = gpt_results['llm_prediction'].astype(int)\n",
    "\n",
    "llama_results['label'] = llama_results['label'].astype(int)\n",
    "llama_results['llm_prediction'] = llama_results['llm_prediction'].astype(int)"
   ]
  },
  {
   "cell_type": "code",
   "execution_count": null,
   "metadata": {},
   "outputs": [],
   "source": [
    "\n",
    "# Remove -1 cases from LLaMA results\n",
    "llama_filtered_results = llama_results[llama_results['llm_prediction'] != -1].copy()"
   ]
  },
  {
   "cell_type": "code",
   "execution_count": 11,
   "metadata": {},
   "outputs": [
    {
     "name": "stderr",
     "output_type": "stream",
     "text": [
      "c:\\Users\\Motunrayo Ibiyo\\Documents\\EDISS Masters Programme\\MALRAG\\MAL-RAG-master\\MAL-RAG-master\\.malvenv\\lib\\site-packages\\sklearn\\metrics\\_classification.py:1565: UndefinedMetricWarning: Recall is ill-defined and being set to 0.0 in labels with no true samples. Use `zero_division` parameter to control this behavior.\n",
      "  _warn_prf(average, modifier, f\"{metric.capitalize()} is\", len(result))\n"
     ]
    }
   ],
   "source": [
    "# Compute evaluation metrics for GPT\n",
    "gpt_accuracy = accuracy_score(gpt_results['label'], gpt_results['llm_prediction'])\n",
    "gpt_precision = precision_score(gpt_results['label'], gpt_results['llm_prediction'], average='binary')\n",
    "gpt_recall = recall_score(gpt_results['label'], gpt_results['llm_prediction'], average='binary')\n",
    "gpt_f1 = f1_score(gpt_results['label'], gpt_results['llm_prediction'], average='binary')\n",
    "\n",
    "# Compute evaluation metrics for LLaMA including -1 category\n",
    "llama_accuracy = accuracy_score(llama_results['label'], llama_results['llm_prediction'])\n",
    "llama_precision = precision_score(llama_results['label'], llama_results['llm_prediction'], average='macro')\n",
    "llama_recall = recall_score(llama_results['label'], llama_results['llm_prediction'], average='macro')\n",
    "llama_f1 = f1_score(llama_results['label'], llama_results['llm_prediction'], average='macro')\n"
   ]
  },
  {
   "cell_type": "code",
   "execution_count": 12,
   "metadata": {},
   "outputs": [
    {
     "name": "stdout",
     "output_type": "stream",
     "text": [
      "GPT Metrics:\n",
      "Accuracy: 0.9350\n",
      "Precision: 0.9772\n",
      "Recall: 0.7754\n",
      "F1 Score: 0.8646\n",
      "\n",
      "LLaMA Metrics:\n",
      "Accuracy: 0.7080\n",
      "Precision: 0.4657\n",
      "Recall: 0.4623\n",
      "F1 Score: 0.4591\n"
     ]
    },
    {
     "data": {
      "image/png": "[encoded data removed]",
      "text/plain": [
       "<Figure size 500x400 with 2 Axes>"
      ]
     },
     "metadata": {},
     "output_type": "display_data"
    },
    {
     "data": {
      "image/png": "[encoded data removed]",
      "text/plain": [
       "<Figure size 500x400 with 2 Axes>"
      ]
     },
     "metadata": {},
     "output_type": "display_data"
    }
   ],
   "source": [
    "\n",
    "\n",
    "\n",
    "# Print results\n",
    "print(\"GPT Metrics:\")\n",
    "print(f\"Accuracy: {gpt_accuracy:.4f}\")\n",
    "print(f\"Precision: {gpt_precision:.4f}\")\n",
    "print(f\"Recall: {gpt_recall:.4f}\")\n",
    "print(f\"F1 Score: {gpt_f1:.4f}\\n\")\n",
    "\n",
    "print(\"LLaMA Metrics:\")\n",
    "print(f\"Accuracy: {llama_accuracy:.4f}\")\n",
    "print(f\"Precision: {llama_precision:.4f}\")\n",
    "print(f\"Recall: {llama_recall:.4f}\")\n",
    "print(f\"F1 Score: {llama_f1:.4f}\")\n",
    "\n",
    "# Plot confusion matrices\n",
    "def plot_confusion_matrix(y_true, y_pred, title):\n",
    "    cm = confusion_matrix(y_true, y_pred)\n",
    "    plt.figure(figsize=(5, 4))\n",
    "    sns.heatmap(cm, annot=True, fmt='d', cmap='Blues', xticklabels=[\"Benign\", \"Malicious\"], yticklabels=[\"Benign\", \"Malicious\"])\n",
    "    plt.xlabel(\"Predicted Label\")\n",
    "    plt.ylabel(\"True Label\")\n",
    "    plt.title(title)\n",
    "    plt.show()\n",
    "\n",
    "plot_confusion_matrix(gpt_results['label'], gpt_results['llm_prediction'], \"GPT Confusion Matrix\")\n",
    "plot_confusion_matrix(llama_filtered_results['label'], llama_filtered_results['llm_prediction'], \"LLaMA Confusion Matrix\")\n"
   ]
  },
  {
   "cell_type": "code",
   "execution_count": 13,
   "metadata": {},
   "outputs": [
    {
     "data": {
      "image/png": "[encoded data removed]",
      "text/plain": [
       "<Figure size 600x500 with 2 Axes>"
      ]
     },
     "metadata": {},
     "output_type": "display_data"
    },
    {
     "data": {
      "image/png": "[encoded data removed]",
      "text/plain": [
       "<Figure size 600x500 with 2 Axes>"
      ]
     },
     "metadata": {},
     "output_type": "display_data"
    }
   ],
   "source": [
    "# Plot confusion matrices\n",
    "def plot_confusion_matrix(y_true, y_pred, title, labels):\n",
    "    cm = confusion_matrix(y_true, y_pred, labels=labels)\n",
    "    plt.figure(figsize=(6, 5))\n",
    "    sns.heatmap(cm, annot=True, fmt='d', cmap='Blues', xticklabels=labels, yticklabels=labels)\n",
    "    plt.xlabel(\"Predicted Label\")\n",
    "    plt.ylabel(\"True Label\")\n",
    "    plt.title(title)\n",
    "    plt.show()\n",
    "\n",
    "plot_confusion_matrix(gpt_results['label'], gpt_results['llm_prediction'], \"GPT Confusion Matrix\", labels=[0, 1])\n",
    "plot_confusion_matrix(llama_results['label'], llama_results['llm_prediction'], \"LLaMA Confusion Matrix\", labels=[-1, 0, 1])\n"
   ]
  },
  {
   "cell_type": "code",
   "execution_count": null,
   "metadata": {},
   "outputs": [],
   "source": []
  },
  {
   "cell_type": "code",
   "execution_count": 14,
   "metadata": {},
   "outputs": [
    {
     "name": "stdout",
     "output_type": "stream",
     "text": [
      "\\begin{tabular}{lllll}\n",
      "\\toprule\n",
      "Model & Accuracy & Precision & Recall & F1 Score \\\\\n",
      "\\midrule\n",
      "GPT & 0.9350 & 0.9772 & 0.7754 & 0.8646 \\\\\n",
      "LLaMA & 0.7080 & 0.4657 & 0.4623 & 0.4591 \\\\\n",
      "\\bottomrule\n",
      "\\end{tabular}\n",
      "\n"
     ]
    }
   ],
   "source": [
    "evaluation_metrics_df = pd.DataFrame({\n",
    "    \"Model\": [\"GPT\", \"LLaMA\"],\n",
    "    \"Accuracy\": [f\"{gpt_accuracy:.4f}\", f\"{llama_accuracy:.4f}\"],\n",
    "    \"Precision\": [f\"{gpt_precision:.4f}\", f\"{llama_precision:.4f}\"],\n",
    "    \"Recall\": [f\"{gpt_recall:.4f}\", f\"{llama_recall:.4f}\"],\n",
    "    \"F1 Score\": [f\"{gpt_f1:.4f}\", f\"{llama_f1:.4f}\"]\n",
    "})\n",
    "\n",
    "latex_table = evaluation_metrics_df.to_latex(index=False)\n",
    "print(latex_table)"
   ]
  },
  {
   "cell_type": "code",
   "execution_count": 17,
   "metadata": {},
   "outputs": [
    {
     "name": "stdout",
     "output_type": "stream",
     "text": [
      "\\begin{tabular}{lllllllll}\n",
      "\\toprule\n",
      "Class & GPT Precision & GPT Recall & GPT F1-Score & GPT Support & LLaMA Precision & LLaMA Recall & LLaMA F1-Score & LLaMA Support \\\\\n",
      "\\midrule\n",
      "0 (Benign) & 0.92 & 0.99 & 0.96 & 754.0 & 0.87 & 0.73 & 0.79 & 735.0 \\\\\n",
      "1 (Malicious) & 0.98 & 0.78 & 0.86 & 276.0 & 0.52 & 0.66 & 0.59 & 272.0 \\\\\n",
      "Accuracy & 0.93 &  &  &  & 0.71 &  &  &  \\\\\n",
      "Balanced Accuracy & 0.95 &  &  &  & 0.47 &  &  &  \\\\\n",
      "\\bottomrule\n",
      "\\end{tabular}\n",
      "\n"
     ]
    },
    {
     "name": "stderr",
     "output_type": "stream",
     "text": [
      "c:\\Users\\Motunrayo Ibiyo\\Documents\\EDISS Masters Programme\\MALRAG\\MAL-RAG-master\\MAL-RAG-master\\.malvenv\\lib\\site-packages\\sklearn\\metrics\\_classification.py:1565: UndefinedMetricWarning: Recall is ill-defined and being set to 0.0 in labels with no true samples. Use `zero_division` parameter to control this behavior.\n",
      "  _warn_prf(average, modifier, f\"{metric.capitalize()} is\", len(result))\n",
      "c:\\Users\\Motunrayo Ibiyo\\Documents\\EDISS Masters Programme\\MALRAG\\MAL-RAG-master\\MAL-RAG-master\\.malvenv\\lib\\site-packages\\sklearn\\metrics\\_classification.py:1565: UndefinedMetricWarning: Recall is ill-defined and being set to 0.0 in labels with no true samples. Use `zero_division` parameter to control this behavior.\n",
      "  _warn_prf(average, modifier, f\"{metric.capitalize()} is\", len(result))\n",
      "c:\\Users\\Motunrayo Ibiyo\\Documents\\EDISS Masters Programme\\MALRAG\\MAL-RAG-master\\MAL-RAG-master\\.malvenv\\lib\\site-packages\\sklearn\\metrics\\_classification.py:1565: UndefinedMetricWarning: Recall is ill-defined and being set to 0.0 in labels with no true samples. Use `zero_division` parameter to control this behavior.\n",
      "  _warn_prf(average, modifier, f\"{metric.capitalize()} is\", len(result))\n"
     ]
    }
   ],
   "source": [
    "# Compute evaluation metrics for GPT\n",
    "gpt_report = classification_report(gpt_results['label'], gpt_results['llm_prediction'], output_dict=True)\n",
    "\n",
    "# Compute evaluation metrics for LLaMA including -1 category\n",
    "llama_report = classification_report(llama_results['label'], llama_results['llm_prediction'], output_dict=True)\n",
    "\n",
    "# Generate LaTeX table\n",
    "# Generate LaTeX table\n",
    "evaluation_metrics_df = pd.DataFrame({\n",
    "    \"Class\": [\"0 (Benign)\", \"1 (Malicious)\", \"Accuracy\", \"Balanced Accuracy\"],\n",
    "    \"GPT Precision\": [f\"{gpt_report['0']['precision']:.2f}\", f\"{gpt_report['1']['precision']:.2f}\", f\"{gpt_report['accuracy']:.2f}\", f\"{gpt_report['macro avg']['precision']:.2f}\"],\n",
    "    \"GPT Recall\": [f\"{gpt_report['0']['recall']:.2f}\", f\"{gpt_report['1']['recall']:.2f}\", \"\", \"\"],\n",
    "    \"GPT F1-Score\": [f\"{gpt_report['0']['f1-score']:.2f}\", f\"{gpt_report['1']['f1-score']:.2f}\", \"\", \"\"],\n",
    "    \"GPT Support\": [f\"{gpt_report['0']['support']}\", f\"{gpt_report['1']['support']}\", \"\", \"\"],\n",
    "    \"LLaMA Precision\": [f\"{llama_report['0']['precision']:.2f}\", f\"{llama_report['1']['precision']:.2f}\", f\"{llama_report['accuracy']:.2f}\", f\"{llama_report['macro avg']['precision']:.2f}\"],\n",
    "    \"LLaMA Recall\": [f\"{llama_report['0']['recall']:.2f}\", f\"{llama_report['1']['recall']:.2f}\", \"\", \"\"],\n",
    "    \"LLaMA F1-Score\": [f\"{llama_report['0']['f1-score']:.2f}\", f\"{llama_report['1']['f1-score']:.2f}\", \"\", \"\"],\n",
    "    \"LLaMA Support\": [f\"{llama_report['0']['support']}\", f\"{llama_report['1']['support']}\", \"\", \"\"]\n",
    "})\n",
    "\n",
    "latex_table = evaluation_metrics_df.to_latex(index=False)\n",
    "print(latex_table)\n"
   ]
  }
 ],
 "metadata": {
  "kernelspec": {
   "display_name": ".malvenv",
   "language": "python",
   "name": "python3"
  },
  "language_info": {
   "codemirror_mode": {
    "name": "ipython",
    "version": 3
   },
   "file_extension": ".py",
   "mimetype": "text/x-python",
   "name": "python",
   "nbconvert_exporter": "python",
   "pygments_lexer": "ipython3",
   "version": "3.10.11"
  }
 },
 "nbformat": 4,
 "nbformat_minor": 2
}
