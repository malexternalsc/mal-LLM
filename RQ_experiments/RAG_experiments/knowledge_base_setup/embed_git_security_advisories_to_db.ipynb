{
 "cells": [
  {
   "cell_type": "markdown",
   "metadata": {},
   "source": [
    "# Fetch and Process GitHub Security Advisories\n",
    "\n",
    "This notebook is used to create the RAG knowledge base based on github advisories. \n",
    "\n",
    "it  demonstrates how to fetch and process security advisories from GitHub repositories using the GitHub API. Security advisories provide important information about vulnerabilities and their mitigations, which is crucial for maintaining the security of software projects.\n",
    "\n",
    "## Setup\n",
    "\n",
    "Before running the notebook, ensure you have the following:\n",
    "\n",
    "1. **GitHub API Token**: You need a GitHub API token to access the GitHub API. Store this token in a `.env` file with the key `GITHUB_API_TOKEN`.\n",
    "2. **Required Libraries**: Install the necessary Python libraries, including `requests`, `pandas`, `dotenv`, and any other dependencies.\n",
    "\n",
    "## Steps\n",
    "\n",
    "1. **Load Environment Variables**: Load the GitHub API token from the `.env` file.\n",
    "2. **Fetch Security Advisories**: Define functions to interact with the GitHub API and fetch security advisories from specified repositories.\n",
    "3. **Process Advisories**: Parse and process the fetched advisories to extract relevant information such as advisory ID, description, severity, affected versions, etc.\n",
    "4. **Store Advisories**: Embed the Save the processed advisories in a structured format (e.g., CSV file) for further analysis.\n",
    "\n",
    "\n",
    "## Usage\n",
    "\n",
    "Follow the steps in the notebook to fetch, process, and analyze security advisories from GitHub repositories. \n",
    "\n",
    "Let's get started!"
   ]
  },
  {
   "cell_type": "code",
   "execution_count": 1,
   "metadata": {},
   "outputs": [
    {
     "data": {
      "text/plain": [
       "True"
      ]
     },
     "execution_count": 1,
     "metadata": {},
     "output_type": "execute_result"
    }
   ],
   "source": [
    "import requests\n",
    "import os\n",
    "import json\n",
    "from dotenv import load_dotenv\n",
    "\n",
    "import base64\n",
    "import psycopg2\n",
    "from langchain_core.documents import Document\n",
    "from langchain_postgres import PGVector\n",
    "from langchain_postgres.vectorstores import PGVector\n",
    "from langchain_openai import OpenAIEmbeddings\n",
    "from tqdm import tqdm\n",
    "import asyncio\n",
    "# Load the environment variables from the .env file\n",
    "load_dotenv()"
   ]
  },
  {
   "cell_type": "code",
   "execution_count": 2,
   "metadata": {},
   "outputs": [],
   "source": [
    "# Set up the API token and endpoint\n",
    "GITHUB_TOKEN = os.getenv(\"GITHUB_TOKEN\")\n",
    "URL = \"https://api.github.com/advisories\"\n",
    "\n",
    "# Define the GraphQL query\n",
    "# Query Parameters (e.g., fetch all critical advisories for Python)\n",
    "params = {\n",
    "    \"type\": \"reviewed\",\n",
    "    \"ecosystem \": \"pip\",\n",
    "    \"per_page\": 100,\n",
    "}"
   ]
  },
  {
   "cell_type": "code",
   "execution_count": 3,
   "metadata": {},
   "outputs": [],
   "source": [
    "# Headers (for authentication)\n",
    "headers = {\n",
    "    \"Authorization\": f\"token {GITHUB_TOKEN}\",\n",
    "    \"Accept\": \"application/vnd.github.v3+json\"\n",
    "}"
   ]
  },
  {
   "cell_type": "code",
   "execution_count": 4,
   "metadata": {},
   "outputs": [],
   "source": [
    "def get_advisories_info(advisories):\n",
    "    advisory_documents = []\n",
    "\n",
    "    for advisory in tqdm(advisories):\n",
    "        metadata = {\n",
    "            \"cve_id\": advisory.get(\"cve_id\", \"N/A\"),\n",
    "            \"severity\": advisory.get(\"severity\", \"N/A\"),\n",
    "            \"source_code_location\": advisory.get(\"source_code_location\", \"N/A\"),\n",
    "        }\n",
    "\n",
    "        # Extract vulnerable packages\n",
    "        vulnerable_packages = advisory.get(\"vulnerabilities\", [])\n",
    "        package_list = []\n",
    "        \n",
    "        for vuln in vulnerable_packages:\n",
    "            package_name = vuln[\"package\"][\"name\"]\n",
    "            vulnerable_version_range = vuln[\"vulnerable_version_range\"]\n",
    "            vulnerable_functions = vuln.get(\"vulnerable_functions\", []) or [\"NA\"]\n",
    "            \n",
    "            package_list.append({\n",
    "                \"Package Name\": package_name,\n",
    "                \"Vulnerable Version Range\": vulnerable_version_range,\n",
    "                \"Vulnerable Functions\": \", \".join(vulnerable_functions)\n",
    "            })\n",
    "\n",
    "        # Store extracted data\n",
    "        metadata[\"packages\"] = package_list\n",
    "\n",
    "        content = f\"Advisory summary: {advisory.get('summary', 'N/A')}\\n Advisory description: {advisory.get('description', 'N/A')}\"\n",
    "        \n",
    "        advisory_documents.append(Document(page_content=content, metadata=metadata))\n",
    "\n",
    "    return advisory_documents\n"
   ]
  },
  {
   "cell_type": "code",
   "execution_count": 5,
   "metadata": {},
   "outputs": [],
   "source": [
    "# Initialize OpenAI Embeddings\n",
    "embeddings = OpenAIEmbeddings(api_key=os.getenv(\"OPENAI_API_KEY\"))\n",
    "# PostgreSQL PGVector Config\n",
    "DB_PARAMS = {\n",
    "    \"database\": \"malware_kb\",\n",
    "    \"user\": \"malware_admin\",\n",
    "    \"password\": \"admin_secure_password\",\n",
    "    \"host\": \"localhost\",\n",
    "    \"port\": \"5432\"\n",
    "}\n",
    "\n",
    "PGVECTOR_CONNECTION_STRING = f\"postgresql+psycopg://{DB_PARAMS['user']}:{DB_PARAMS['password']}@{DB_PARAMS['host']}:{DB_PARAMS['port']}/{DB_PARAMS['database']}?options=-csearch_path=malware\"\n",
    "\n",
    "def store_in_pgvector(docs):\n",
    "    vector_store = PGVector(\n",
    "        connection=PGVECTOR_CONNECTION_STRING,  # ✅ Use correct connection string\n",
    "        embeddings=embeddings,\n",
    "        collection_name=\"github_advisories\",\n",
    "        use_jsonb=True,\n",
    "    )\n",
    "\n",
    "    \n",
    "    vector_store.add_documents(docs)  # ✅ Store asynchronously\n",
    "\n",
    "    \n",
    "\n",
    "\n"
   ]
  },
  {
   "cell_type": "code",
   "execution_count": 9,
   "metadata": {},
   "outputs": [
    {
     "name": "stdout",
     "output_type": "stream",
     "text": [
      "🔍 Fetching advisories from page 1\n"
     ]
    },
    {
     "name": "stderr",
     "output_type": "stream",
     "text": [
      "100%|██████████| 100/100 [00:00<00:00, 15366.57it/s]\n"
     ]
    },
    {
     "name": "stdout",
     "output_type": "stream",
     "text": [
      "🔍 Fetching advisories from page 2\n"
     ]
    },
    {
     "name": "stderr",
     "output_type": "stream",
     "text": [
      "100%|██████████| 100/100 [00:00<?, ?it/s]\n"
     ]
    },
    {
     "name": "stdout",
     "output_type": "stream",
     "text": [
      "🔍 Fetching advisories from page 3\n"
     ]
    },
    {
     "name": "stderr",
     "output_type": "stream",
     "text": [
      "100%|██████████| 100/100 [00:00<?, ?it/s]\n"
     ]
    },
    {
     "name": "stdout",
     "output_type": "stream",
     "text": [
      "🔍 Fetching advisories from page 4\n"
     ]
    },
    {
     "name": "stderr",
     "output_type": "stream",
     "text": [
      "100%|██████████| 100/100 [00:00<00:00, 51075.30it/s]\n"
     ]
    },
    {
     "name": "stdout",
     "output_type": "stream",
     "text": [
      "🔍 Fetching advisories from page 5\n"
     ]
    },
    {
     "name": "stderr",
     "output_type": "stream",
     "text": [
      "100%|██████████| 100/100 [00:00<?, ?it/s]\n"
     ]
    },
    {
     "name": "stdout",
     "output_type": "stream",
     "text": [
      "🔍 Fetching advisories from page 6\n"
     ]
    },
    {
     "name": "stderr",
     "output_type": "stream",
     "text": [
      "100%|██████████| 100/100 [00:00<?, ?it/s]\n"
     ]
    },
    {
     "name": "stdout",
     "output_type": "stream",
     "text": [
      "🔍 Fetching advisories from page 7\n"
     ]
    },
    {
     "name": "stderr",
     "output_type": "stream",
     "text": [
      "100%|██████████| 100/100 [00:00<?, ?it/s]\n"
     ]
    },
    {
     "name": "stdout",
     "output_type": "stream",
     "text": [
      "🔍 Fetching advisories from page 8\n"
     ]
    },
    {
     "name": "stderr",
     "output_type": "stream",
     "text": [
      "100%|██████████| 100/100 [00:00<00:00, 29933.66it/s]\n"
     ]
    },
    {
     "name": "stdout",
     "output_type": "stream",
     "text": [
      "🔍 Fetching advisories from page 9\n"
     ]
    },
    {
     "name": "stderr",
     "output_type": "stream",
     "text": [
      "100%|██████████| 100/100 [00:00<00:00, 65927.44it/s]\n"
     ]
    },
    {
     "name": "stdout",
     "output_type": "stream",
     "text": [
      "🔍 Fetching advisories from page 10\n"
     ]
    },
    {
     "name": "stderr",
     "output_type": "stream",
     "text": [
      "100%|██████████| 100/100 [00:00<00:00, 96199.63it/s]\n"
     ]
    },
    {
     "name": "stdout",
     "output_type": "stream",
     "text": [
      "🔍 Fetching advisories from page 11\n"
     ]
    },
    {
     "name": "stderr",
     "output_type": "stream",
     "text": [
      "100%|██████████| 100/100 [00:00<00:00, 160332.72it/s]\n"
     ]
    },
    {
     "name": "stdout",
     "output_type": "stream",
     "text": [
      "🔍 Fetching advisories from page 12\n"
     ]
    },
    {
     "name": "stderr",
     "output_type": "stream",
     "text": [
      "100%|██████████| 100/100 [00:00<00:00, 50051.36it/s]\n"
     ]
    },
    {
     "name": "stdout",
     "output_type": "stream",
     "text": [
      "🔍 Fetching advisories from page 13\n"
     ]
    },
    {
     "name": "stderr",
     "output_type": "stream",
     "text": [
      "100%|██████████| 100/100 [00:00<00:00, 100582.83it/s]\n"
     ]
    },
    {
     "name": "stdout",
     "output_type": "stream",
     "text": [
      "🔍 Fetching advisories from page 14\n"
     ]
    },
    {
     "name": "stderr",
     "output_type": "stream",
     "text": [
      "100%|██████████| 100/100 [00:00<?, ?it/s]\n"
     ]
    },
    {
     "name": "stdout",
     "output_type": "stream",
     "text": [
      "🔍 Fetching advisories from page 15\n"
     ]
    },
    {
     "name": "stderr",
     "output_type": "stream",
     "text": [
      "100%|██████████| 100/100 [00:00<00:00, 103563.06it/s]\n"
     ]
    },
    {
     "name": "stdout",
     "output_type": "stream",
     "text": [
      "🔍 Fetching advisories from page 16\n"
     ]
    },
    {
     "name": "stderr",
     "output_type": "stream",
     "text": [
      "100%|██████████| 100/100 [00:00<?, ?it/s]\n"
     ]
    },
    {
     "name": "stdout",
     "output_type": "stream",
     "text": [
      "🔍 Fetching advisories from page 17\n"
     ]
    },
    {
     "name": "stderr",
     "output_type": "stream",
     "text": [
      "100%|██████████| 100/100 [00:00<?, ?it/s]\n"
     ]
    },
    {
     "name": "stdout",
     "output_type": "stream",
     "text": [
      "🔍 Fetching advisories from page 18\n"
     ]
    },
    {
     "name": "stderr",
     "output_type": "stream",
     "text": [
      "100%|██████████| 100/100 [00:00<?, ?it/s]\n"
     ]
    },
    {
     "name": "stdout",
     "output_type": "stream",
     "text": [
      "🔍 Fetching advisories from page 19\n"
     ]
    },
    {
     "name": "stderr",
     "output_type": "stream",
     "text": [
      "100%|██████████| 100/100 [00:00<?, ?it/s]\n"
     ]
    },
    {
     "name": "stdout",
     "output_type": "stream",
     "text": [
      "🔍 Fetching advisories from page 20\n"
     ]
    },
    {
     "name": "stderr",
     "output_type": "stream",
     "text": [
      "100%|██████████| 100/100 [00:00<?, ?it/s]\n"
     ]
    },
    {
     "name": "stdout",
     "output_type": "stream",
     "text": [
      "🔍 Fetching advisories from page 21\n"
     ]
    },
    {
     "name": "stderr",
     "output_type": "stream",
     "text": [
      "100%|██████████| 100/100 [00:00<?, ?it/s]\n"
     ]
    },
    {
     "name": "stdout",
     "output_type": "stream",
     "text": [
      "🔍 Fetching advisories from page 22\n"
     ]
    },
    {
     "name": "stderr",
     "output_type": "stream",
     "text": [
      "100%|██████████| 100/100 [00:00<?, ?it/s]\n"
     ]
    },
    {
     "name": "stdout",
     "output_type": "stream",
     "text": [
      "🔍 Fetching advisories from page 23\n"
     ]
    },
    {
     "name": "stderr",
     "output_type": "stream",
     "text": [
      "100%|██████████| 100/100 [00:00<00:00, 103180.91it/s]\n"
     ]
    },
    {
     "name": "stdout",
     "output_type": "stream",
     "text": [
      "🔍 Fetching advisories from page 24\n"
     ]
    },
    {
     "name": "stderr",
     "output_type": "stream",
     "text": [
      "100%|██████████| 100/100 [00:00<00:00, 22000.02it/s]\n"
     ]
    },
    {
     "name": "stdout",
     "output_type": "stream",
     "text": [
      "🔍 Fetching advisories from page 25\n"
     ]
    },
    {
     "name": "stderr",
     "output_type": "stream",
     "text": [
      "100%|██████████| 100/100 [00:00<?, ?it/s]\n"
     ]
    },
    {
     "name": "stdout",
     "output_type": "stream",
     "text": [
      "🔍 Fetching advisories from page 26\n"
     ]
    },
    {
     "name": "stderr",
     "output_type": "stream",
     "text": [
      "100%|██████████| 100/100 [00:00<?, ?it/s]\n"
     ]
    },
    {
     "name": "stdout",
     "output_type": "stream",
     "text": [
      "🔍 Fetching advisories from page 27\n"
     ]
    },
    {
     "name": "stderr",
     "output_type": "stream",
     "text": [
      "100%|██████████| 100/100 [00:00<?, ?it/s]\n"
     ]
    },
    {
     "name": "stdout",
     "output_type": "stream",
     "text": [
      "🔍 Fetching advisories from page 28\n"
     ]
    },
    {
     "name": "stderr",
     "output_type": "stream",
     "text": [
      "100%|██████████| 100/100 [00:00<00:00, 99296.97it/s]\n"
     ]
    },
    {
     "name": "stdout",
     "output_type": "stream",
     "text": [
      "🔍 Fetching advisories from page 29\n"
     ]
    },
    {
     "name": "stderr",
     "output_type": "stream",
     "text": [
      "100%|██████████| 100/100 [00:00<00:00, 100150.53it/s]\n"
     ]
    },
    {
     "name": "stdout",
     "output_type": "stream",
     "text": [
      "🔍 Fetching advisories from page 30\n"
     ]
    },
    {
     "name": "stderr",
     "output_type": "stream",
     "text": [
      "100%|██████████| 100/100 [00:00<?, ?it/s]\n"
     ]
    },
    {
     "name": "stdout",
     "output_type": "stream",
     "text": [
      "🔍 Fetching advisories from page 31\n"
     ]
    },
    {
     "name": "stderr",
     "output_type": "stream",
     "text": [
      "100%|██████████| 100/100 [00:00<?, ?it/s]\n"
     ]
    },
    {
     "name": "stdout",
     "output_type": "stream",
     "text": [
      "🔍 Fetching advisories from page 32\n"
     ]
    },
    {
     "name": "stderr",
     "output_type": "stream",
     "text": [
      "100%|██████████| 71/71 [00:00<00:00, 71005.15it/s]\n"
     ]
    },
    {
     "name": "stdout",
     "output_type": "stream",
     "text": [
      "✅ Fetched 3171 advisories\n"
     ]
    }
   ],
   "source": [
    "# Pagination logic\n",
    "advisories_num = 0\n",
    "test=[]\n",
    "page = 1\n",
    "while URL:\n",
    "    params = {\n",
    "        \"type\": \"reviewed\",\n",
    "        \"ecosystem\":\"pip\",\n",
    "        \"per_page\": 100,\n",
    "    }\n",
    "    response = requests.get(URL, headers=headers, params=params)\n",
    "        \n",
    "    if response.status_code != 200:\n",
    "        print(f\"Error: {response.status_code} - {response.text}\")\n",
    "        break\n",
    "\n",
    "    data = response.json()\n",
    "    \n",
    "    if not data:  # No more advisories left\n",
    "        break\n",
    "    \n",
    "    advisories_num+=len(data)\n",
    "    print(f\"🔍 Fetching advisories from page {page}\")\n",
    "    # Extract advisory information\n",
    "    advisory_documents = get_advisories_info(data)\n",
    "    store_in_pgvector(advisory_documents)\n",
    "    page+=1\n",
    "    \n",
    "    # Extract the \"Link\" header from the response\n",
    "    link_header = response.headers.get(\"Link\", \"\")\n",
    "\n",
    "    # Find the next page URL\n",
    "    next_url = None\n",
    "    if link_header:\n",
    "        links = link_header.split(\", \")\n",
    "        for link in links:\n",
    "            if 'rel=\"next\"' in link:\n",
    "                next_url = link.split(\";\")[0].strip(\"<>\")  # Extract URL\n",
    "                break\n",
    "\n",
    "    URL = next_url  # Update URL for next request or exit if no \"next\"\n",
    "\n",
    "\n",
    "print(f\"✅ Fetched {advisories_num} advisories\")"
   ]
  },
  {
   "cell_type": "code",
   "execution_count": 8,
   "metadata": {},
   "outputs": [
    {
     "data": {
      "text/plain": [
       "{'ghsa_id': 'GHSA-g5vp-j278-8pjh',\n",
       " 'cve_id': 'CVE-2024-49048',\n",
       " 'url': 'https://api.github.com/advisories/GHSA-g5vp-j278-8pjh',\n",
       " 'html_url': 'https://github.com/advisories/GHSA-g5vp-j278-8pjh',\n",
       " 'summary': 'TorchGeo Remote Code Execution Vulnerability',\n",
       " 'description': 'TorchGeo Remote Code Execution Vulnerability',\n",
       " 'type': 'reviewed',\n",
       " 'severity': 'high',\n",
       " 'repository_advisory_url': None,\n",
       " 'source_code_location': 'https://github.com/microsoft/torchgeo',\n",
       " 'identifiers': [{'value': 'GHSA-g5vp-j278-8pjh', 'type': 'GHSA'},\n",
       "  {'value': 'CVE-2024-49048', 'type': 'CVE'}],\n",
       " 'references': ['https://nvd.nist.gov/vuln/detail/CVE-2024-49048',\n",
       "  'https://msrc.microsoft.com/update-guide/vulnerability/CVE-2024-49048',\n",
       "  'https://github.com/microsoft/torchgeo/pull/2323',\n",
       "  'https://github.com/microsoft/torchgeo/releases/tag/v0.6.1',\n",
       "  'https://github.com/pypa/advisory-database/tree/main/vulns/torchgeo/PYSEC-2024-204.yaml',\n",
       "  'https://github.com/advisories/GHSA-g5vp-j278-8pjh'],\n",
       " 'published_at': '2024-11-12T18:30:59Z',\n",
       " 'updated_at': '2025-01-21T19:43:07Z',\n",
       " 'github_reviewed_at': '2025-01-21T19:43:05Z',\n",
       " 'nvd_published_at': '2024-11-12T18:15:45Z',\n",
       " 'withdrawn_at': None,\n",
       " 'vulnerabilities': [{'package': {'ecosystem': 'pip', 'name': 'torchgeo'},\n",
       "   'vulnerable_version_range': '>= 0, < 0.6.1',\n",
       "   'first_patched_version': '0.6.1',\n",
       "   'vulnerable_functions': []}],\n",
       " 'cvss_severities': {'cvss_v3': {'vector_string': 'CVSS:3.1/AV:N/AC:H/PR:N/UI:N/S:U/C:H/I:H/A:H',\n",
       "   'score': 8.1},\n",
       "  'cvss_v4': {'vector_string': None, 'score': 0.0}},\n",
       " 'cwes': [{'cwe_id': 'CWE-94',\n",
       "   'name': \"Improper Control of Generation of Code ('Code Injection')\"}],\n",
       " 'credits': [],\n",
       " 'cvss': {'vector_string': 'CVSS:3.1/AV:N/AC:H/PR:N/UI:N/S:U/C:H/I:H/A:H',\n",
       "  'score': 8.1},\n",
       " 'epss': {'percentage': 0.0014, 'percentile': 0.50503}}"
      ]
     },
     "execution_count": 8,
     "metadata": {},
     "output_type": "execute_result"
    }
   ],
   "source": [
    "test[1]"
   ]
  },
  {
   "cell_type": "code",
   "execution_count": null,
   "metadata": {},
   "outputs": [],
   "source": []
  }
 ],
 "metadata": {
  "kernelspec": {
   "display_name": ".malvenv",
   "language": "python",
   "name": "python3"
  },
  "language_info": {
   "codemirror_mode": {
    "name": "ipython",
    "version": 3
   },
   "file_extension": ".py",
   "mimetype": "text/x-python",
   "name": "python",
   "nbconvert_exporter": "python",
   "pygments_lexer": "ipython3",
   "version": "3.10.11"
  }
 },
 "nbformat": 4,
 "nbformat_minor": 2
}
